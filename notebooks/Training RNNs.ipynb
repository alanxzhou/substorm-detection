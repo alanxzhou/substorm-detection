{
 "cells": [
  {
   "cell_type": "markdown",
   "metadata": {},
   "source": [
    "## Load in Necessary Packages, etc."
   ]
  },
  {
   "cell_type": "code",
   "execution_count": 74,
   "metadata": {},
   "outputs": [
    {
     "name": "stdout",
     "output_type": "stream",
     "text": [
      "The autoreload extension is already loaded. To reload it, use:\n",
      "  %reload_ext autoreload\n"
     ]
    }
   ],
   "source": [
    "%matplotlib inline\n",
    "\n",
    "import matplotlib.pyplot as plt\n",
    "import numpy as np\n",
    "import seaborn as sns\n",
    "import sys\n",
    "\n",
    "sys.path.append('D:\\substorm-detection\\RNN')\n",
    "sys.path.append('D:\\substorm-detection')\n",
    "sys.path.append('D:\\substorm-detection\\\\baseline')\n",
    "sys.path.append('D:\\substorm-detection\\\\data')\n",
    "\n",
    "import rnn_models\n",
    "import utils\n",
    "import utils_linear\n",
    "import plot_utils\n",
    "import linear_models\n",
    "\n",
    "%load_ext autoreload\n",
    "%autoreload 2\n",
    "\n",
    "sns.set()"
   ]
  },
  {
   "cell_type": "markdown",
   "metadata": {},
   "source": [
    "## Load in Data"
   ]
  },
  {
   "cell_type": "code",
   "execution_count": 57,
   "metadata": {},
   "outputs": [],
   "source": [
    "folder = 'D:\\\\substorm-detection\\\\data'\n",
    "data_fn = folder + '\\\\short_data.npz'\n",
    "data_fn = folder + '\\\\2classes_data128_withsw.npz'\n",
    "data = np.load(data_fn)\n",
    "X = data['X']\n",
    "y = data['y'][:, None]\n",
    "SW = data['SW']\n",
    "strength = data['strength']\n",
    "\n",
    "print(np.shape(X))\n",
    "print(np.shape(y))\n",
    "print(np.shape(SW))\n",
    "print(np.shape(strength))"
   ]
  },
  {
   "cell_type": "code",
   "execution_count": 88,
   "metadata": {},
   "outputs": [
    {
     "name": "stderr",
     "output_type": "stream",
     "text": [
      "C:\\Users\\Alan\\Anaconda3\\lib\\site-packages\\sklearn\\preprocessing\\label.py:235: DataConversionWarning: A column-vector y was passed when a 1d array was expected. Please change the shape of y to (n_samples, ), for example using ravel().\n",
      "  y = column_or_1d(y, warn=True)\n",
      "C:\\Users\\Alan\\Anaconda3\\lib\\site-packages\\sklearn\\preprocessing\\_encoders.py:371: FutureWarning: The handling of integer data will change in version 0.22. Currently, the categories are determined based on the range [0, max(values)], while in the future they will be determined based on the unique values.\n",
      "If you want the future behaviour and silence this warning, you can specify \"categories='auto'\".\n",
      "In case you used a LabelEncoder before this OneHotEncoder to convert the categories to integers, then you can now use the OneHotEncoder directly.\n",
      "  warnings.warn(msg, FutureWarning)\n",
      "C:\\Users\\Alan\\Anaconda3\\lib\\site-packages\\sklearn\\preprocessing\\label.py:235: DataConversionWarning: A column-vector y was passed when a 1d array was expected. Please change the shape of y to (n_samples, ), for example using ravel().\n",
      "  y = column_or_1d(y, warn=True)\n",
      "C:\\Users\\Alan\\Anaconda3\\lib\\site-packages\\sklearn\\preprocessing\\_encoders.py:371: FutureWarning: The handling of integer data will change in version 0.22. Currently, the categories are determined based on the range [0, max(values)], while in the future they will be determined based on the unique values.\n",
      "If you want the future behaviour and silence this warning, you can specify \"categories='auto'\".\n",
      "In case you used a LabelEncoder before this OneHotEncoder to convert the categories to integers, then you can now use the OneHotEncoder directly.\n",
      "  warnings.warn(msg, FutureWarning)\n",
      "C:\\Users\\Alan\\Anaconda3\\lib\\site-packages\\sklearn\\preprocessing\\label.py:235: DataConversionWarning: A column-vector y was passed when a 1d array was expected. Please change the shape of y to (n_samples, ), for example using ravel().\n",
      "  y = column_or_1d(y, warn=True)\n",
      "C:\\Users\\Alan\\Anaconda3\\lib\\site-packages\\sklearn\\preprocessing\\_encoders.py:371: FutureWarning: The handling of integer data will change in version 0.22. Currently, the categories are determined based on the range [0, max(values)], while in the future they will be determined based on the unique values.\n",
      "If you want the future behaviour and silence this warning, you can specify \"categories='auto'\".\n",
      "In case you used a LabelEncoder before this OneHotEncoder to convert the categories to integers, then you can now use the OneHotEncoder directly.\n",
      "  warnings.warn(msg, FutureWarning)\n"
     ]
    }
   ],
   "source": [
    "batch_size = 32\n",
    "\n",
    "train_test_split = .2\n",
    "train_val_split = .2\n",
    "train, test = utils.split_data([X, SW, y, strength], train_test_split, random=False)\n",
    "train, val = utils.split_data(train, train_val_split, random=True, batch_size=batch_size)\n",
    "X_train, sw_train, y_train, strength_train = train\n",
    "X_val, sw_val, y_val, strength_val = val\n",
    "X_test, sw_test, y_test, strength_test = test\n",
    "\n",
    "X_train, X_val, X_test = utils.rnn_format_x([X_train, X_val, X_test])\n",
    "y_train, y_val, y_test = utils.rnn_format_y([y_train, y_val, y_test])\n",
    "\n",
    "X_train, X_val, X_test = [X_train, sw_train], [X_val, sw_val], [X_test, sw_test]\n",
    "y_train, y_val, y_test = [y_train, strength_train], [y_val, strength_val], [y_test, strength_test]"
   ]
  },
  {
   "cell_type": "code",
   "execution_count": 135,
   "metadata": {},
   "outputs": [],
   "source": [
    "params = {\n",
    "    'batch_size': batch_size,\n",
    "    'rnn_hidden_units': 64,\n",
    "    'n_stacks': 2,\n",
    "    'fc_hidden_size': 128,\n",
    "    'n_classes': 2,\n",
    "    'epochs': 3,\n",
    "    'verbose': True,\n",
    "    'time_output_weight': 1e6,\n",
    "    'rnn_type': 'GRU',\n",
    "    'output_type': 'time'\n",
    "}"
   ]
  },
  {
   "cell_type": "code",
   "execution_count": 131,
   "metadata": {
    "scrolled": false
   },
   "outputs": [
    {
     "name": "stdout",
     "output_type": "stream",
     "text": [
      "__________________________________________________________________________________________________\n",
      "Layer (type)                    Output Shape         Param #     Connected to                     \n",
      "==================================================================================================\n",
      "input_104 (InputLayer)          (32, 256, 6)         0                                            \n",
      "__________________________________________________________________________________________________\n",
      "input_103 (InputLayer)          (32, 128, 243)       0                                            \n",
      "__________________________________________________________________________________________________\n",
      "gru_203 (GRU)                   (32, 256, 64)        13632       input_104[0][0]                  \n",
      "__________________________________________________________________________________________________\n",
      "gru_201 (GRU)                   (32, 128, 64)        59136       input_103[0][0]                  \n",
      "__________________________________________________________________________________________________\n",
      "gru_204 (GRU)                   (32, 256, 64)        24768       gru_203[0][0]                    \n",
      "__________________________________________________________________________________________________\n",
      "gru_202 (GRU)                   (32, 128, 64)        24768       gru_201[0][0]                    \n",
      "__________________________________________________________________________________________________\n",
      "max_pooling1d_5 (MaxPooling1D)  (32, 128, 64)        0           gru_204[0][0]                    \n",
      "__________________________________________________________________________________________________\n",
      "flatten_74 (Flatten)            (32, 8192)           0           gru_202[0][0]                    \n",
      "__________________________________________________________________________________________________\n",
      "flatten_75 (Flatten)            (32, 8192)           0           max_pooling1d_5[0][0]            \n",
      "__________________________________________________________________________________________________\n",
      "concatenate_45 (Concatenate)    (32, 16384)          0           flatten_74[0][0]                 \n",
      "                                                                 flatten_75[0][0]                 \n",
      "__________________________________________________________________________________________________\n",
      "dense_49 (Dense)                (32, 128)            2097280     concatenate_45[0][0]             \n",
      "__________________________________________________________________________________________________\n",
      "time_output (Dense)             (32, 2)              258         dense_49[0][0]                   \n",
      "==================================================================================================\n",
      "Total params: 2,219,842\n",
      "Trainable params: 2,219,842\n",
      "Non-trainable params: 0\n",
      "__________________________________________________________________________________________________\n",
      "None\n",
      "Train on 13056 samples, validate on 3264 samples\n",
      "Epoch 1/3\n",
      "13056/13056 [==============================] - 327s 25ms/step - loss: 0.5859 - acc: 0.7507 - true_positive: 0.7326 - false_positive: 0.2368 - val_loss: 0.4853 - val_acc: 0.7874 - val_true_positive: 0.7491 - val_false_positive: 0.1730\n",
      "Epoch 2/3\n",
      "13056/13056 [==============================] - 306s 23ms/step - loss: 0.4725 - acc: 0.7860 - true_positive: 0.7573 - false_positive: 0.1878 - val_loss: 0.4824 - val_acc: 0.7917 - val_true_positive: 0.8186 - val_false_positive: 0.2284\n",
      "Epoch 3/3\n",
      "13056/13056 [==============================] - 320s 25ms/step - loss: 0.4423 - acc: 0.8039 - true_positive: 0.7652 - false_positive: 0.1654 - val_loss: 0.4688 - val_acc: 0.7877 - val_true_positive: 0.7905 - val_false_positive: 0.2092\n"
     ]
    }
   ],
   "source": [
    "hist, model = rnn_models.train_functional_rnn_single(X_train, y_train, X_val, y_val, params)"
   ]
  },
  {
   "cell_type": "code",
   "execution_count": 136,
   "metadata": {},
   "outputs": [
    {
     "name": "stdout",
     "output_type": "stream",
     "text": [
      "__________________________________________________________________________________________________\n",
      "Layer (type)                    Output Shape         Param #     Connected to                     \n",
      "==================================================================================================\n",
      "input_112 (InputLayer)          (32, 256, 6)         0                                            \n",
      "__________________________________________________________________________________________________\n",
      "input_111 (InputLayer)          (32, 128, 243)       0                                            \n",
      "__________________________________________________________________________________________________\n",
      "gru_219 (GRU)                   (32, 256, 64)        13632       input_112[0][0]                  \n",
      "__________________________________________________________________________________________________\n",
      "gru_217 (GRU)                   (32, 128, 64)        59136       input_111[0][0]                  \n",
      "__________________________________________________________________________________________________\n",
      "gru_220 (GRU)                   (32, 256, 64)        24768       gru_219[0][0]                    \n",
      "__________________________________________________________________________________________________\n",
      "gru_218 (GRU)                   (32, 128, 64)        24768       gru_217[0][0]                    \n",
      "__________________________________________________________________________________________________\n",
      "max_pooling1d_9 (MaxPooling1D)  (32, 128, 64)        0           gru_220[0][0]                    \n",
      "__________________________________________________________________________________________________\n",
      "flatten_83 (Flatten)            (32, 8192)           0           gru_218[0][0]                    \n",
      "__________________________________________________________________________________________________\n",
      "flatten_84 (Flatten)            (32, 8192)           0           max_pooling1d_9[0][0]            \n",
      "__________________________________________________________________________________________________\n",
      "concatenate_48 (Concatenate)    (32, 16384)          0           flatten_83[0][0]                 \n",
      "                                                                 flatten_84[0][0]                 \n",
      "__________________________________________________________________________________________________\n",
      "dense_52 (Dense)                (32, 128)            2097280     concatenate_48[0][0]             \n",
      "__________________________________________________________________________________________________\n",
      "time_output (Dense)             (32, 2)              258         dense_52[0][0]                   \n",
      "__________________________________________________________________________________________________\n",
      "strength_output (Dense)         (32, 1)              129         dense_52[0][0]                   \n",
      "==================================================================================================\n",
      "Total params: 2,219,971\n",
      "Trainable params: 2,219,971\n",
      "Non-trainable params: 0\n",
      "__________________________________________________________________________________________________\n",
      "None\n",
      "Train on 13056 samples, validate on 3264 samples\n",
      "Epoch 1/3\n",
      "13056/13056 [==============================] - 337s 26ms/step - loss: 1240925.1516 - time_output_loss: 0.5609 - strength_output_loss: 679989.4804 - time_output_acc: 0.7431 - time_output_true_positive: 0.7282 - time_output_false_positive: 0.2541 - strength_output_mean_squared_error: 679989.4804 - strength_output_mean_absolute_error: 545.3507 - val_loss: 1045425.7224 - val_time_output_loss: 0.5213 - val_strength_output_loss: 524161.6486 - val_time_output_acc: 0.7577 - val_time_output_true_positive: 0.8817 - val_time_output_false_positive: 0.3833 - val_strength_output_mean_squared_error: 524161.6486 - val_strength_output_mean_absolute_error: 357.2599\n",
      "Epoch 2/3\n",
      "13056/13056 [==============================] - 324s 25ms/step - loss: 833009.0905 - time_output_loss: 0.4908 - strength_output_loss: 342193.3097 - time_output_acc: 0.7781 - time_output_true_positive: 0.7600 - time_output_false_positive: 0.2037 - strength_output_mean_squared_error: 342193.3097 - strength_output_mean_absolute_error: 313.6382 - val_loss: 940030.8952 - val_time_output_loss: 0.4727 - val_strength_output_loss: 467346.8956 - val_time_output_acc: 0.7895 - val_time_output_true_positive: 0.8272 - val_time_output_false_positive: 0.2546 - val_strength_output_mean_squared_error: 467346.8956 - val_strength_output_mean_absolute_error: 312.8981\n",
      "Epoch 3/3\n",
      "13056/13056 [==============================] - 327s 25ms/step - loss: 761000.8477 - time_output_loss: 0.4553 - strength_output_loss: 305701.1098 - time_output_acc: 0.7998 - time_output_true_positive: 0.7751 - time_output_false_positive: 0.1768 - strength_output_mean_squared_error: 305701.1098 - strength_output_mean_absolute_error: 273.7922 - val_loss: 904398.1023 - val_time_output_loss: 0.4646 - val_strength_output_loss: 439788.3907 - val_time_output_acc: 0.7892 - val_time_output_true_positive: 0.7036 - val_time_output_false_positive: 0.1411 - val_strength_output_mean_squared_error: 439788.3907 - val_strength_output_mean_absolute_error: 260.2024\n"
     ]
    }
   ],
   "source": [
    "hist, model = rnn_models.train_functional_rnn_combined(X_train, y_train, X_val, y_val, params)"
   ]
  },
  {
   "cell_type": "markdown",
   "metadata": {},
   "source": [
    "### Training on only solar wind data"
   ]
  },
  {
   "cell_type": "code",
   "execution_count": 85,
   "metadata": {},
   "outputs": [],
   "source": [
    "params = {\n",
    "    'batch_size': batch_size,\n",
    "    'rnn_hidden_units': 128,\n",
    "    'n_stacks': 2,\n",
    "    'fc_hidden_size': 128,\n",
    "    'n_classes': 2,\n",
    "    'epochs': 3,\n",
    "    'verbose': True,\n",
    "    'time_output_weight': 1,\n",
    "    'rnn_type': 'GRU',\n",
    "}"
   ]
  },
  {
   "cell_type": "code",
   "execution_count": 86,
   "metadata": {},
   "outputs": [
    {
     "name": "stdout",
     "output_type": "stream",
     "text": [
      "Train on 15456 samples, validate on 2720 samples\n",
      "Epoch 1/3\n",
      "15456/15456 [==============================] - 292s 19ms/step - loss: 0.6141 - acc: 0.6613 - true_positive: 0.6544 - false_positive: 0.3265 - val_loss: 0.5661 - val_acc: 0.7114 - val_true_positive: 0.7150 - val_false_positive: 0.2898\n",
      "Epoch 2/3\n",
      "15456/15456 [==============================] - 279s 18ms/step - loss: 0.5750 - acc: 0.7044 - true_positive: 0.6619 - false_positive: 0.2520 - val_loss: 0.5683 - val_acc: 0.7114 - val_true_positive: 0.5880 - val_false_positive: 0.1618\n",
      "Epoch 3/3\n",
      "15456/15456 [==============================] - 280s 18ms/step - loss: 0.5730 - acc: 0.7070 - true_positive: 0.6592 - false_positive: 0.2445 - val_loss: 0.5653 - val_acc: 0.7129 - val_true_positive: 0.6960 - val_false_positive: 0.2664\n"
     ]
    }
   ],
   "source": [
    "hist, model = rnn_models.train_basic_gru(X_train[1], y_train[0], X_val[1], y_val[0], params)"
   ]
  },
  {
   "cell_type": "markdown",
   "metadata": {},
   "source": [
    "### Training on only magnetometer data"
   ]
  },
  {
   "cell_type": "code",
   "execution_count": 87,
   "metadata": {},
   "outputs": [
    {
     "name": "stdout",
     "output_type": "stream",
     "text": [
      "Train on 15456 samples, validate on 2720 samples\n",
      "Epoch 1/3\n",
      "15456/15456 [==============================] - 150s 10ms/step - loss: 0.5788 - acc: 0.7075 - true_positive: 0.6965 - false_positive: 0.2810 - val_loss: 0.5437 - val_acc: 0.7485 - val_true_positive: 0.7647 - val_false_positive: 0.2653\n",
      "Epoch 2/3\n",
      "15456/15456 [==============================] - 145s 9ms/step - loss: 0.5354 - acc: 0.7494 - true_positive: 0.7336 - false_positive: 0.2326 - val_loss: 0.5373 - val_acc: 0.7423 - val_true_positive: 0.7411 - val_false_positive: 0.2564\n",
      "Epoch 3/3\n",
      "15456/15456 [==============================] - 145s 9ms/step - loss: 0.5074 - acc: 0.7666 - true_positive: 0.7427 - false_positive: 0.2085 - val_loss: 0.5187 - val_acc: 0.7640 - val_true_positive: 0.7769 - val_false_positive: 0.2498\n"
     ]
    }
   ],
   "source": [
    "hist, model = rnn_models.train_basic_gru(X_train[0], y_train[0], X_val[0], y_val[0], params)"
   ]
  },
  {
   "cell_type": "code",
   "execution_count": null,
   "metadata": {},
   "outputs": [],
   "source": []
  }
 ],
 "metadata": {
  "kernelspec": {
   "display_name": "Python 3",
   "language": "python",
   "name": "python3"
  },
  "language_info": {
   "codemirror_mode": {
    "name": "ipython",
    "version": 3
   },
   "file_extension": ".py",
   "mimetype": "text/x-python",
   "name": "python",
   "nbconvert_exporter": "python",
   "pygments_lexer": "ipython3",
   "version": "3.6.8"
  }
 },
 "nbformat": 4,
 "nbformat_minor": 2
}
