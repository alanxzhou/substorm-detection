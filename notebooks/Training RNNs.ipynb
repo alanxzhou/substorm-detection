{
 "cells": [
  {
   "cell_type": "markdown",
   "metadata": {},
   "source": [
    "## Load in Necessary Packages, etc."
   ]
  },
  {
   "cell_type": "code",
   "execution_count": 1,
   "metadata": {},
   "outputs": [
    {
     "name": "stderr",
     "output_type": "stream",
     "text": [
      "Using TensorFlow backend.\n"
     ]
    }
   ],
   "source": [
    "%matplotlib inline\n",
    "\n",
    "import matplotlib.pyplot as plt\n",
    "import numpy as np\n",
    "import seaborn as sns\n",
    "import sys\n",
    "\n",
    "sys.path.append('D:\\substorm-detection\\RNN')\n",
    "sys.path.append('D:\\substorm-detection')\n",
    "sys.path.append('D:\\substorm-detection\\\\baseline')\n",
    "sys.path.append('D:\\substorm-detection\\\\data')\n",
    "\n",
    "import rnn_models\n",
    "import utils\n",
    "import utils_linear\n",
    "import plot_utils\n",
    "import linear_models\n",
    "\n",
    "%load_ext autoreload\n",
    "%autoreload 2\n",
    "\n",
    "sns.set()"
   ]
  },
  {
   "cell_type": "markdown",
   "metadata": {},
   "source": [
    "## Load in Data"
   ]
  },
  {
   "cell_type": "code",
   "execution_count": 2,
   "metadata": {},
   "outputs": [
    {
     "name": "stdout",
     "output_type": "stream",
     "text": [
      "(20446, 81, 128, 3)\n",
      "(20446, 1)\n",
      "(20457, 256, 6)\n",
      "(20446,)\n"
     ]
    }
   ],
   "source": [
    "folder = 'D:\\\\substorm-detection\\\\data'\n",
    "data_fn = folder + '\\\\short_data.npz'\n",
    "data_fn = folder + '\\\\2classes_data128_withsw.npz'\n",
    "data = np.load(data_fn)\n",
    "X = data['X']\n",
    "y = data['y'][:, None]\n",
    "SW = data['SW']\n",
    "strength = data['strength']\n",
    "\n",
    "print(np.shape(X))\n",
    "print(np.shape(y))\n",
    "print(np.shape(SW))\n",
    "print(np.shape(strength))"
   ]
  },
  {
   "cell_type": "code",
   "execution_count": 3,
   "metadata": {},
   "outputs": [
    {
     "name": "stderr",
     "output_type": "stream",
     "text": [
      "C:\\Users\\Alan\\Anaconda3\\lib\\site-packages\\sklearn\\preprocessing\\label.py:235: DataConversionWarning: A column-vector y was passed when a 1d array was expected. Please change the shape of y to (n_samples, ), for example using ravel().\n",
      "  y = column_or_1d(y, warn=True)\n",
      "C:\\Users\\Alan\\Anaconda3\\lib\\site-packages\\sklearn\\preprocessing\\_encoders.py:371: FutureWarning: The handling of integer data will change in version 0.22. Currently, the categories are determined based on the range [0, max(values)], while in the future they will be determined based on the unique values.\n",
      "If you want the future behaviour and silence this warning, you can specify \"categories='auto'\".\n",
      "In case you used a LabelEncoder before this OneHotEncoder to convert the categories to integers, then you can now use the OneHotEncoder directly.\n",
      "  warnings.warn(msg, FutureWarning)\n",
      "C:\\Users\\Alan\\Anaconda3\\lib\\site-packages\\sklearn\\preprocessing\\label.py:235: DataConversionWarning: A column-vector y was passed when a 1d array was expected. Please change the shape of y to (n_samples, ), for example using ravel().\n",
      "  y = column_or_1d(y, warn=True)\n",
      "C:\\Users\\Alan\\Anaconda3\\lib\\site-packages\\sklearn\\preprocessing\\_encoders.py:371: FutureWarning: The handling of integer data will change in version 0.22. Currently, the categories are determined based on the range [0, max(values)], while in the future they will be determined based on the unique values.\n",
      "If you want the future behaviour and silence this warning, you can specify \"categories='auto'\".\n",
      "In case you used a LabelEncoder before this OneHotEncoder to convert the categories to integers, then you can now use the OneHotEncoder directly.\n",
      "  warnings.warn(msg, FutureWarning)\n",
      "C:\\Users\\Alan\\Anaconda3\\lib\\site-packages\\sklearn\\preprocessing\\label.py:235: DataConversionWarning: A column-vector y was passed when a 1d array was expected. Please change the shape of y to (n_samples, ), for example using ravel().\n",
      "  y = column_or_1d(y, warn=True)\n",
      "C:\\Users\\Alan\\Anaconda3\\lib\\site-packages\\sklearn\\preprocessing\\_encoders.py:371: FutureWarning: The handling of integer data will change in version 0.22. Currently, the categories are determined based on the range [0, max(values)], while in the future they will be determined based on the unique values.\n",
      "If you want the future behaviour and silence this warning, you can specify \"categories='auto'\".\n",
      "In case you used a LabelEncoder before this OneHotEncoder to convert the categories to integers, then you can now use the OneHotEncoder directly.\n",
      "  warnings.warn(msg, FutureWarning)\n"
     ]
    }
   ],
   "source": [
    "batch_size = 64\n",
    "\n",
    "train_test_split = .2\n",
    "train_val_split = .2\n",
    "train, test = utils.split_data([X, SW, y, strength], train_test_split, random=False)\n",
    "train, val = utils.split_data(train, train_val_split, random=True, batch_size=batch_size)\n",
    "X_train, sw_train, y_train, strength_train = train\n",
    "X_val, sw_val, y_val, strength_val = val\n",
    "X_test, sw_test, y_test, strength_test = test\n",
    "\n",
    "X_train, X_val, X_test = utils.rnn_format_x([X_train, X_val, X_test])\n",
    "y_train, y_val, y_test = utils.rnn_format_y([y_train, y_val, y_test])\n",
    "\n",
    "X_train, X_val, X_test = [X_train, sw_train], [X_val, sw_val], [X_test, sw_test]\n",
    "y_train, y_val, y_test = [y_train, strength_train], [y_val, strength_val], [y_test, strength_test]"
   ]
  },
  {
   "cell_type": "code",
   "execution_count": 8,
   "metadata": {},
   "outputs": [],
   "source": [
    "params = {\n",
    "    'batch_size': batch_size,\n",
    "    'rnn_hidden_units': 64,\n",
    "    'n_stacks': 2,\n",
    "    'fc_hidden_size': 128,\n",
    "    'n_classes': 2,\n",
    "    'epochs': 5,\n",
    "    'verbose': True,\n",
    "    'time_output_weight': 1e6,\n",
    "    'rnn_type': 'GRU',\n",
    "    'output_type': 'time'\n",
    "}"
   ]
  },
  {
   "cell_type": "code",
   "execution_count": 9,
   "metadata": {
    "scrolled": false
   },
   "outputs": [
    {
     "name": "stdout",
     "output_type": "stream",
     "text": [
      "__________________________________________________________________________________________________\n",
      "Layer (type)                    Output Shape         Param #     Connected to                     \n",
      "==================================================================================================\n",
      "input_2 (InputLayer)            (32, 256, 6)         0                                            \n",
      "__________________________________________________________________________________________________\n",
      "input_1 (InputLayer)            (32, 128, 243)       0                                            \n",
      "__________________________________________________________________________________________________\n",
      "gru_7 (GRU)                     (32, 256, 64)        13632       input_2[0][0]                    \n",
      "__________________________________________________________________________________________________\n",
      "gru_5 (GRU)                     (32, 128, 64)        59136       input_1[0][0]                    \n",
      "__________________________________________________________________________________________________\n",
      "gru_8 (GRU)                     (32, 256, 64)        24768       gru_7[0][0]                      \n",
      "__________________________________________________________________________________________________\n",
      "gru_6 (GRU)                     (32, 128, 64)        24768       gru_5[0][0]                      \n",
      "__________________________________________________________________________________________________\n",
      "max_pooling1d_1 (MaxPooling1D)  (32, 128, 64)        0           gru_8[0][0]                      \n",
      "__________________________________________________________________________________________________\n",
      "flatten_1 (Flatten)             (32, 8192)           0           gru_6[0][0]                      \n",
      "__________________________________________________________________________________________________\n",
      "flatten_2 (Flatten)             (32, 8192)           0           max_pooling1d_1[0][0]            \n",
      "__________________________________________________________________________________________________\n",
      "concatenate_1 (Concatenate)     (32, 16384)          0           flatten_1[0][0]                  \n",
      "                                                                 flatten_2[0][0]                  \n",
      "__________________________________________________________________________________________________\n",
      "dense_5 (Dense)                 (32, 128)            2097280     concatenate_1[0][0]              \n",
      "__________________________________________________________________________________________________\n",
      "time_output (Dense)             (32, 2)              258         dense_5[0][0]                    \n",
      "==================================================================================================\n",
      "Total params: 2,219,842\n",
      "Trainable params: 2,219,842\n",
      "Non-trainable params: 0\n",
      "__________________________________________________________________________________________________\n",
      "None\n",
      "Train on 13056 samples, validate on 3264 samples\n",
      "Epoch 1/5\n",
      "13056/13056 [==============================] - 297s 23ms/step - loss: 0.5228 - acc: 0.7596 - true_positive: 0.7384 - false_positive: 0.2178 - val_loss: 0.4883 - val_acc: 0.7897 - val_true_positive: 0.7303 - val_false_positive: 0.1495\n",
      "Epoch 2/5\n",
      "13056/13056 [==============================] - 293s 22ms/step - loss: 0.4558 - acc: 0.7983 - true_positive: 0.7696 - false_positive: 0.1742 - val_loss: 0.4662 - val_acc: 0.7909 - val_true_positive: 0.8078 - val_false_positive: 0.2192\n",
      "Epoch 3/5\n",
      "13056/13056 [==============================] - 294s 23ms/step - loss: 0.4231 - acc: 0.8140 - true_positive: 0.7801 - false_positive: 0.1569 - val_loss: 0.4477 - val_acc: 0.8012 - val_true_positive: 0.7727 - val_false_positive: 0.1706\n",
      "Epoch 4/5\n",
      "13056/13056 [==============================] - 8632s 661ms/step - loss: 0.4047 - acc: 0.8205 - true_positive: 0.7824 - false_positive: 0.1457 - val_loss: 0.4620 - val_acc: 0.7949 - val_true_positive: 0.6742 - val_false_positive: 0.0895\n",
      "Epoch 5/5\n",
      "13056/13056 [==============================] - 313s 24ms/step - loss: 0.3802 - acc: 0.8366 - true_positive: 0.7931 - false_positive: 0.1249 - val_loss: 0.4486 - val_acc: 0.7973 - val_true_positive: 0.7330 - val_false_positive: 0.1401\n"
     ]
    }
   ],
   "source": [
    "hist, model = rnn_models.train_functional_rnn_single(X_train, y_train, X_val, y_val, params)"
   ]
  },
  {
   "cell_type": "code",
   "execution_count": 10,
   "metadata": {},
   "outputs": [
    {
     "name": "stdout",
     "output_type": "stream",
     "text": [
      "__________________________________________________________________________________________________\n",
      "Layer (type)                    Output Shape         Param #     Connected to                     \n",
      "==================================================================================================\n",
      "input_4 (InputLayer)            (32, 256, 6)         0                                            \n",
      "__________________________________________________________________________________________________\n",
      "input_3 (InputLayer)            (32, 128, 243)       0                                            \n",
      "__________________________________________________________________________________________________\n",
      "gru_11 (GRU)                    (32, 256, 64)        13632       input_4[0][0]                    \n",
      "__________________________________________________________________________________________________\n",
      "gru_9 (GRU)                     (32, 128, 64)        59136       input_3[0][0]                    \n",
      "__________________________________________________________________________________________________\n",
      "gru_12 (GRU)                    (32, 256, 64)        24768       gru_11[0][0]                     \n",
      "__________________________________________________________________________________________________\n",
      "gru_10 (GRU)                    (32, 128, 64)        24768       gru_9[0][0]                      \n",
      "__________________________________________________________________________________________________\n",
      "max_pooling1d_2 (MaxPooling1D)  (32, 128, 64)        0           gru_12[0][0]                     \n",
      "__________________________________________________________________________________________________\n",
      "flatten_3 (Flatten)             (32, 8192)           0           gru_10[0][0]                     \n",
      "__________________________________________________________________________________________________\n",
      "flatten_4 (Flatten)             (32, 8192)           0           max_pooling1d_2[0][0]            \n",
      "__________________________________________________________________________________________________\n",
      "concatenate_2 (Concatenate)     (32, 16384)          0           flatten_3[0][0]                  \n",
      "                                                                 flatten_4[0][0]                  \n",
      "__________________________________________________________________________________________________\n",
      "dense_6 (Dense)                 (32, 128)            2097280     concatenate_2[0][0]              \n",
      "__________________________________________________________________________________________________\n",
      "time_output (Dense)             (32, 2)              258         dense_6[0][0]                    \n",
      "__________________________________________________________________________________________________\n",
      "strength_output (Dense)         (32, 1)              129         dense_6[0][0]                    \n",
      "==================================================================================================\n",
      "Total params: 2,219,971\n",
      "Trainable params: 2,219,971\n",
      "Non-trainable params: 0\n",
      "__________________________________________________________________________________________________\n",
      "None\n",
      "Train on 13056 samples, validate on 3264 samples\n",
      "Epoch 1/5\n",
      "13056/13056 [==============================] - 313s 24ms/step - loss: 1303376.3483 - time_output_loss: 0.5589 - strength_output_loss: 744437.9341 - time_output_acc: 0.7417 - time_output_true_positive: 0.7384 - time_output_false_positive: 0.2541 - strength_output_mean_squared_error: 744437.9341 - strength_output_mean_absolute_error: 577.0914 - val_loss: 1025707.0800 - val_time_output_loss: 0.5216 - val_strength_output_loss: 504085.2848 - val_time_output_acc: 0.7708 - val_time_output_true_positive: 0.7021 - val_time_output_false_positive: 0.1587 - val_strength_output_mean_squared_error: 504085.2848 - val_strength_output_mean_absolute_error: 376.4677\n",
      "Epoch 2/5\n",
      "13056/13056 [==============================] - 343s 26ms/step - loss: 905774.2835 - time_output_loss: 0.5104 - strength_output_loss: 395424.0177 - time_output_acc: 0.7693 - time_output_true_positive: 0.7537 - time_output_false_positive: 0.2213 - strength_output_mean_squared_error: 395424.0177 - strength_output_mean_absolute_error: 356.5317 - val_loss: 981286.0276 - val_time_output_loss: 0.5452 - val_strength_output_loss: 436071.6960 - val_time_output_acc: 0.7286 - val_time_output_true_positive: 0.8604 - val_time_output_false_positive: 0.3578 - val_strength_output_mean_squared_error: 436071.6960 - val_strength_output_mean_absolute_error: 339.9206\n",
      "Epoch 3/5\n",
      "13056/13056 [==============================] - 446s 34ms/step - loss: 840750.8047 - time_output_loss: 0.4822 - strength_output_loss: 358529.1080 - time_output_acc: 0.7833 - time_output_true_positive: 0.7786 - time_output_false_positive: 0.2117 - strength_output_mean_squared_error: 358529.1080 - strength_output_mean_absolute_error: 320.5744 - val_loss: 955480.4694 - val_time_output_loss: 0.5426 - val_strength_output_loss: 412852.0746 - val_time_output_acc: 0.7327 - val_time_output_true_positive: 0.8514 - val_time_output_false_positive: 0.3349 - val_strength_output_mean_squared_error: 412852.0746 - val_strength_output_mean_absolute_error: 289.9462\n",
      "Epoch 4/5\n",
      "13056/13056 [==============================] - 610s 47ms/step - loss: 786057.4484 - time_output_loss: 0.4554 - strength_output_loss: 330630.2738 - time_output_acc: 0.7966 - time_output_true_positive: 0.7928 - time_output_false_positive: 0.1994 - strength_output_mean_squared_error: 330630.2738 - strength_output_mean_absolute_error: 287.2042 - val_loss: 858235.3465 - val_time_output_loss: 0.4707 - val_strength_output_loss: 387582.5810 - val_time_output_acc: 0.7855 - val_time_output_true_positive: 0.7814 - val_time_output_false_positive: 0.2119 - val_strength_output_mean_squared_error: 387582.5810 - val_strength_output_mean_absolute_error: 275.8747\n",
      "Epoch 5/5\n",
      "13056/13056 [==============================] - 552s 42ms/step - loss: 751991.1902 - time_output_loss: 0.4365 - strength_output_loss: 315459.8534 - time_output_acc: 0.8058 - time_output_true_positive: 0.7969 - time_output_false_positive: 0.1850 - strength_output_mean_squared_error: 315459.8534 - strength_output_mean_absolute_error: 271.6128 - val_loss: 845655.2932 - val_time_output_loss: 0.4754 - val_strength_output_loss: 370284.0219 - val_time_output_acc: 0.7940 - val_time_output_true_positive: 0.7005 - val_time_output_false_positive: 0.1210 - val_strength_output_mean_squared_error: 370284.0219 - val_strength_output_mean_absolute_error: 274.0013\n"
     ]
    }
   ],
   "source": [
    "hist, model = rnn_models.train_functional_rnn_combined(X_train, y_train, X_val, y_val, params)"
   ]
  },
  {
   "cell_type": "markdown",
   "metadata": {},
   "source": [
    "### Training on only solar wind data"
   ]
  },
  {
   "cell_type": "code",
   "execution_count": 5,
   "metadata": {},
   "outputs": [],
   "source": [
    "params = {\n",
    "    'batch_size': batch_size,\n",
    "    'rnn_hidden_units': 128,\n",
    "    'n_stacks': 2,\n",
    "    'fc_hidden_size': 128,\n",
    "    'n_classes': 2,\n",
    "    'epochs': 5,\n",
    "    'verbose': True,\n",
    "    'time_output_weight': 1,\n",
    "    'rnn_type': 'GRU',\n",
    "}"
   ]
  },
  {
   "cell_type": "code",
   "execution_count": 6,
   "metadata": {},
   "outputs": [
    {
     "name": "stdout",
     "output_type": "stream",
     "text": [
      "WARNING:tensorflow:From C:\\Users\\Alan\\Anaconda3\\lib\\site-packages\\tensorflow\\python\\framework\\op_def_library.py:263: colocate_with (from tensorflow.python.framework.ops) is deprecated and will be removed in a future version.\n",
      "Instructions for updating:\n",
      "Colocations handled automatically by placer.\n",
      "WARNING:tensorflow:From C:\\Users\\Alan\\Anaconda3\\lib\\site-packages\\tensorflow\\python\\ops\\math_ops.py:3066: to_int32 (from tensorflow.python.ops.math_ops) is deprecated and will be removed in a future version.\n",
      "Instructions for updating:\n",
      "Use tf.cast instead.\n",
      "Train on 13056 samples, validate on 3264 samples\n",
      "Epoch 1/5\n",
      "13056/13056 [==============================] - 241s 18ms/step - loss: 0.6399 - acc: 0.6225 - true_positive: 0.5591 - false_positive: 0.3194 - val_loss: 0.5893 - val_acc: 0.6887 - val_true_positive: 0.7364 - val_false_positive: 0.3544\n",
      "Epoch 2/5\n",
      "13056/13056 [==============================] - 239s 18ms/step - loss: 0.5782 - acc: 0.7027 - true_positive: 0.6615 - false_positive: 0.2616 - val_loss: 0.5665 - val_acc: 0.7188 - val_true_positive: 0.6660 - val_false_positive: 0.2327\n",
      "Epoch 3/5\n",
      "13056/13056 [==============================] - 250s 19ms/step - loss: 0.5704 - acc: 0.7142 - true_positive: 0.6576 - false_positive: 0.2330 - val_loss: 0.5731 - val_acc: 0.7062 - val_true_positive: 0.7124 - val_false_positive: 0.2990\n",
      "Epoch 4/5\n",
      "13056/13056 [==============================] - 239s 18ms/step - loss: 0.5660 - acc: 0.7123 - true_positive: 0.6426 - false_positive: 0.2267 - val_loss: 0.5671 - val_acc: 0.7102 - val_true_positive: 0.6176 - val_false_positive: 0.2060\n",
      "Epoch 5/5\n",
      "13056/13056 [==============================] - 237s 18ms/step - loss: 0.5659 - acc: 0.7124 - true_positive: 0.6480 - false_positive: 0.2261 - val_loss: 0.5673 - val_acc: 0.7148 - val_true_positive: 0.6837 - val_false_positive: 0.2572\n"
     ]
    }
   ],
   "source": [
    "hist, model = rnn_models.train_basic_gru(X_train[1], y_train[0], X_val[1], y_val[0], params)"
   ]
  },
  {
   "cell_type": "markdown",
   "metadata": {},
   "source": [
    "### Training on only magnetometer data"
   ]
  },
  {
   "cell_type": "code",
   "execution_count": 7,
   "metadata": {},
   "outputs": [
    {
     "name": "stdout",
     "output_type": "stream",
     "text": [
      "Train on 13056 samples, validate on 3264 samples\n",
      "Epoch 1/5\n",
      "13056/13056 [==============================] - 125s 10ms/step - loss: 0.5766 - acc: 0.7165 - true_positive: 0.6946 - false_positive: 0.2619 - val_loss: 0.5397 - val_acc: 0.7414 - val_true_positive: 0.7052 - val_false_positive: 0.2256\n",
      "Epoch 2/5\n",
      "13056/13056 [==============================] - 124s 9ms/step - loss: 0.5327 - acc: 0.7502 - true_positive: 0.7232 - false_positive: 0.2240 - val_loss: 0.5275 - val_acc: 0.7589 - val_true_positive: 0.7067 - val_false_positive: 0.1951\n",
      "Epoch 3/5\n",
      "13056/13056 [==============================] - 123s 9ms/step - loss: 0.5059 - acc: 0.7695 - true_positive: 0.7370 - false_positive: 0.2021 - val_loss: 0.5504 - val_acc: 0.7399 - val_true_positive: 0.7271 - val_false_positive: 0.2478\n",
      "Epoch 4/5\n",
      "13056/13056 [==============================] - 124s 9ms/step - loss: 0.4956 - acc: 0.7726 - true_positive: 0.7390 - false_positive: 0.1969 - val_loss: 0.5234 - val_acc: 0.7592 - val_true_positive: 0.7491 - val_false_positive: 0.2302\n",
      "Epoch 5/5\n",
      "13056/13056 [==============================] - 124s 9ms/step - loss: 0.4786 - acc: 0.7810 - true_positive: 0.7469 - false_positive: 0.1868 - val_loss: 0.5192 - val_acc: 0.7623 - val_true_positive: 0.7611 - val_false_positive: 0.2370\n"
     ]
    }
   ],
   "source": [
    "hist, model = rnn_models.train_basic_gru(X_train[0], y_train[0], X_val[0], y_val[0], params)"
   ]
  },
  {
   "cell_type": "markdown",
   "metadata": {},
   "source": [
    "#### Some Hyperparameter Tuning"
   ]
  },
  {
   "cell_type": "code",
   "execution_count": 13,
   "metadata": {},
   "outputs": [],
   "source": [
    "params = {\n",
    "    'batch_size': batch_size,\n",
    "    'rnn_hidden_units': 32,\n",
    "    'n_stacks': 2,\n",
    "    'fc_hidden_size': 128,\n",
    "    'n_classes': 2,\n",
    "    'epochs': 10,\n",
    "    'verbose': True,\n",
    "    'time_output_weight': 1e6,\n",
    "    'rnn_type': 'GRU',\n",
    "    'output_type': 'time'\n",
    "}"
   ]
  },
  {
   "cell_type": "code",
   "execution_count": 14,
   "metadata": {},
   "outputs": [
    {
     "name": "stdout",
     "output_type": "stream",
     "text": [
      "__________________________________________________________________________________________________\n",
      "Layer (type)                    Output Shape         Param #     Connected to                     \n",
      "==================================================================================================\n",
      "input_8 (InputLayer)            (32, 256, 6)         0                                            \n",
      "__________________________________________________________________________________________________\n",
      "input_7 (InputLayer)            (32, 128, 243)       0                                            \n",
      "__________________________________________________________________________________________________\n",
      "gru_19 (GRU)                    (32, 256, 32)        3744        input_8[0][0]                    \n",
      "__________________________________________________________________________________________________\n",
      "gru_17 (GRU)                    (32, 128, 32)        26496       input_7[0][0]                    \n",
      "__________________________________________________________________________________________________\n",
      "gru_20 (GRU)                    (32, 256, 32)        6240        gru_19[0][0]                     \n",
      "__________________________________________________________________________________________________\n",
      "gru_18 (GRU)                    (32, 128, 32)        6240        gru_17[0][0]                     \n",
      "__________________________________________________________________________________________________\n",
      "max_pooling1d_4 (MaxPooling1D)  (32, 128, 32)        0           gru_20[0][0]                     \n",
      "__________________________________________________________________________________________________\n",
      "flatten_7 (Flatten)             (32, 4096)           0           gru_18[0][0]                     \n",
      "__________________________________________________________________________________________________\n",
      "flatten_8 (Flatten)             (32, 4096)           0           max_pooling1d_4[0][0]            \n",
      "__________________________________________________________________________________________________\n",
      "concatenate_4 (Concatenate)     (32, 8192)           0           flatten_7[0][0]                  \n",
      "                                                                 flatten_8[0][0]                  \n",
      "__________________________________________________________________________________________________\n",
      "dense_8 (Dense)                 (32, 128)            1048704     concatenate_4[0][0]              \n",
      "__________________________________________________________________________________________________\n",
      "time_output (Dense)             (32, 2)              258         dense_8[0][0]                    \n",
      "==================================================================================================\n",
      "Total params: 1,091,682\n",
      "Trainable params: 1,091,682\n",
      "Non-trainable params: 0\n",
      "__________________________________________________________________________________________________\n",
      "None\n",
      "Train on 13056 samples, validate on 3264 samples\n",
      "Epoch 1/10\n",
      "13056/13056 [==============================] - 425s 33ms/step - loss: 0.5377 - acc: 0.7492 - true_positive: 0.7249 - false_positive: 0.2298 - val_loss: 0.4903 - val_acc: 0.7767 - val_true_positive: 0.7837 - val_false_positive: 0.2305\n",
      "Epoch 2/10\n",
      "13056/13056 [==============================] - 688s 53ms/step - loss: 0.4817 - acc: 0.7794 - true_positive: 0.7504 - false_positive: 0.1933 - val_loss: 0.4812 - val_acc: 0.7797 - val_true_positive: 0.8264 - val_false_positive: 0.2645\n",
      "Epoch 3/10\n",
      "13056/13056 [==============================] - 516s 40ms/step - loss: 0.4574 - acc: 0.7944 - true_positive: 0.7671 - false_positive: 0.1806 - val_loss: 0.4749 - val_acc: 0.7883 - val_true_positive: 0.7909 - val_false_positive: 0.2103\n",
      "Epoch 4/10\n",
      "13056/13056 [==============================] - 351s 27ms/step - loss: 0.4336 - acc: 0.8045 - true_positive: 0.7726 - false_positive: 0.1676 - val_loss: 0.4807 - val_acc: 0.7849 - val_true_positive: 0.7542 - val_false_positive: 0.1813\n",
      "Epoch 5/10\n",
      "13056/13056 [==============================] - 321s 25ms/step - loss: 0.4137 - acc: 0.8145 - true_positive: 0.7840 - false_positive: 0.1561 - val_loss: 0.4859 - val_acc: 0.7858 - val_true_positive: 0.7890 - val_false_positive: 0.2179\n",
      "Epoch 6/10\n",
      "13056/13056 [==============================] - 317s 24ms/step - loss: 0.3912 - acc: 0.8260 - true_positive: 0.7954 - false_positive: 0.1464 - val_loss: 0.4982 - val_acc: 0.7852 - val_true_positive: 0.7578 - val_false_positive: 0.1892\n",
      "Epoch 7/10\n",
      "13056/13056 [==============================] - 310s 24ms/step - loss: 0.3660 - acc: 0.8380 - true_positive: 0.8086 - false_positive: 0.1344 - val_loss: 0.5163 - val_acc: 0.7793 - val_true_positive: 0.6801 - val_false_positive: 0.1272\n",
      "Epoch 8/10\n",
      "13056/13056 [==============================] - 311s 24ms/step - loss: 0.3381 - acc: 0.8530 - true_positive: 0.8199 - false_positive: 0.1190 - val_loss: 0.5077 - val_acc: 0.7823 - val_true_positive: 0.7541 - val_false_positive: 0.1967\n",
      "Epoch 9/10\n",
      "13056/13056 [==============================] - 341s 26ms/step - loss: 0.3111 - acc: 0.8625 - true_positive: 0.8359 - false_positive: 0.1143 - val_loss: 0.5422 - val_acc: 0.7760 - val_true_positive: 0.7367 - val_false_positive: 0.1947\n",
      "Epoch 10/10\n",
      "13056/13056 [==============================] - 333s 26ms/step - loss: 0.2787 - acc: 0.8831 - true_positive: 0.8515 - false_positive: 0.0889 - val_loss: 0.5676 - val_acc: 0.7704 - val_true_positive: 0.7205 - val_false_positive: 0.1775\n"
     ]
    }
   ],
   "source": [
    "hist, model = rnn_models.train_functional_rnn_single(X_train, y_train, X_val, y_val, params)"
   ]
  },
  {
   "cell_type": "code",
   "execution_count": 15,
   "metadata": {},
   "outputs": [],
   "source": [
    "params = {\n",
    "    'batch_size': batch_size,\n",
    "    'rnn_hidden_units': 16,\n",
    "    'n_stacks': 2,\n",
    "    'fc_hidden_size': 128,\n",
    "    'n_classes': 2,\n",
    "    'epochs': 10,\n",
    "    'verbose': True,\n",
    "    'time_output_weight': 1e6,\n",
    "    'rnn_type': 'GRU',\n",
    "    'output_type': 'time'\n",
    "}"
   ]
  },
  {
   "cell_type": "code",
   "execution_count": 16,
   "metadata": {},
   "outputs": [
    {
     "name": "stdout",
     "output_type": "stream",
     "text": [
      "__________________________________________________________________________________________________\n",
      "Layer (type)                    Output Shape         Param #     Connected to                     \n",
      "==================================================================================================\n",
      "input_10 (InputLayer)           (32, 256, 6)         0                                            \n",
      "__________________________________________________________________________________________________\n",
      "input_9 (InputLayer)            (32, 128, 243)       0                                            \n",
      "__________________________________________________________________________________________________\n",
      "gru_23 (GRU)                    (32, 256, 16)        1104        input_10[0][0]                   \n",
      "__________________________________________________________________________________________________\n",
      "gru_21 (GRU)                    (32, 128, 16)        12480       input_9[0][0]                    \n",
      "__________________________________________________________________________________________________\n",
      "gru_24 (GRU)                    (32, 256, 16)        1584        gru_23[0][0]                     \n",
      "__________________________________________________________________________________________________\n",
      "gru_22 (GRU)                    (32, 128, 16)        1584        gru_21[0][0]                     \n",
      "__________________________________________________________________________________________________\n",
      "max_pooling1d_5 (MaxPooling1D)  (32, 128, 16)        0           gru_24[0][0]                     \n",
      "__________________________________________________________________________________________________\n",
      "flatten_9 (Flatten)             (32, 2048)           0           gru_22[0][0]                     \n",
      "__________________________________________________________________________________________________\n",
      "flatten_10 (Flatten)            (32, 2048)           0           max_pooling1d_5[0][0]            \n",
      "__________________________________________________________________________________________________\n",
      "concatenate_5 (Concatenate)     (32, 4096)           0           flatten_9[0][0]                  \n",
      "                                                                 flatten_10[0][0]                 \n",
      "__________________________________________________________________________________________________\n",
      "dense_9 (Dense)                 (32, 128)            524416      concatenate_5[0][0]              \n",
      "__________________________________________________________________________________________________\n",
      "time_output (Dense)             (32, 2)              258         dense_9[0][0]                    \n",
      "==================================================================================================\n",
      "Total params: 541,426\n",
      "Trainable params: 541,426\n",
      "Non-trainable params: 0\n",
      "__________________________________________________________________________________________________\n",
      "None\n",
      "Train on 13056 samples, validate on 3264 samples\n",
      "Epoch 1/10\n",
      "13056/13056 [==============================] - 315s 24ms/step - loss: 0.5481 - acc: 0.7356 - true_positive: 0.7286 - false_positive: 0.2540 - val_loss: 0.5042 - val_acc: 0.7714 - val_true_positive: 0.7390 - val_false_positive: 0.1968\n",
      "Epoch 2/10\n",
      "13056/13056 [==============================] - 313s 24ms/step - loss: 0.4954 - acc: 0.7733 - true_positive: 0.7515 - false_positive: 0.2067 - val_loss: 0.4908 - val_acc: 0.7877 - val_true_positive: 0.7606 - val_false_positive: 0.1841\n",
      "Epoch 3/10\n",
      "13056/13056 [==============================] - 310s 24ms/step - loss: 0.4680 - acc: 0.7895 - true_positive: 0.7594 - false_positive: 0.1838 - val_loss: 0.4935 - val_acc: 0.7814 - val_true_positive: 0.7172 - val_false_positive: 0.1559\n",
      "Epoch 4/10\n",
      "13056/13056 [==============================] - 308s 24ms/step - loss: 0.4484 - acc: 0.8002 - true_positive: 0.7753 - false_positive: 0.1766 - val_loss: 0.4858 - val_acc: 0.7823 - val_true_positive: 0.7609 - val_false_positive: 0.1914\n",
      "Epoch 5/10\n",
      "13056/13056 [==============================] - 314s 24ms/step - loss: 0.4345 - acc: 0.8088 - true_positive: 0.7788 - false_positive: 0.1633 - val_loss: 0.4835 - val_acc: 0.7797 - val_true_positive: 0.7857 - val_false_positive: 0.2163\n",
      "Epoch 6/10\n",
      "13056/13056 [==============================] - 301s 23ms/step - loss: 0.4147 - acc: 0.8162 - true_positive: 0.7820 - false_positive: 0.1520 - val_loss: 0.4918 - val_acc: 0.7868 - val_true_positive: 0.7065 - val_false_positive: 0.1365\n",
      "Epoch 7/10\n",
      "13056/13056 [==============================] - 309s 24ms/step - loss: 0.3836 - acc: 0.8321 - true_positive: 0.7984 - false_positive: 0.1392 - val_loss: 0.4935 - val_acc: 0.7817 - val_true_positive: 0.7487 - val_false_positive: 0.1865\n",
      "Epoch 8/10\n",
      "13056/13056 [==============================] - 304s 23ms/step - loss: 0.3609 - acc: 0.8409 - true_positive: 0.8116 - false_positive: 0.1311 - val_loss: 0.5040 - val_acc: 0.7866 - val_true_positive: 0.7615 - val_false_positive: 0.1890\n",
      "Epoch 9/10\n",
      "13056/13056 [==============================] - 344s 26ms/step - loss: 0.3295 - acc: 0.8581 - true_positive: 0.8295 - false_positive: 0.1147 - val_loss: 0.5224 - val_acc: 0.7765 - val_true_positive: 0.6933 - val_false_positive: 0.1456\n",
      "Epoch 10/10\n",
      "13056/13056 [==============================] - 498s 38ms/step - loss: 0.3100 - acc: 0.8641 - true_positive: 0.8339 - false_positive: 0.1106 - val_loss: 0.5621 - val_acc: 0.7698 - val_true_positive: 0.7778 - val_false_positive: 0.2365\n"
     ]
    }
   ],
   "source": [
    "hist, model = rnn_models.train_functional_rnn_single(X_train, y_train, X_val, y_val, params)"
   ]
  },
  {
   "cell_type": "code",
   "execution_count": 19,
   "metadata": {},
   "outputs": [],
   "source": [
    "params = {\n",
    "    'batch_size': batch_size,\n",
    "    'rnn_hidden_units': 64,\n",
    "    'n_stacks': 2,\n",
    "    'fc_hidden_size': 128,\n",
    "    'n_classes': 2,\n",
    "    'epochs': 10,\n",
    "    'verbose': True,\n",
    "    'time_output_weight': 1e6,\n",
    "    'rnn_type': 'GRU',\n",
    "    'output_type': 'time',\n",
    "    'dropout_rate': 0.2\n",
    "}"
   ]
  },
  {
   "cell_type": "code",
   "execution_count": 20,
   "metadata": {},
   "outputs": [
    {
     "name": "stdout",
     "output_type": "stream",
     "text": [
      "WARNING:tensorflow:From C:\\Users\\Alan\\Anaconda3\\lib\\site-packages\\keras\\backend\\tensorflow_backend.py:3445: calling dropout (from tensorflow.python.ops.nn_ops) with keep_prob is deprecated and will be removed in a future version.\n",
      "Instructions for updating:\n",
      "Please use `rate` instead of `keep_prob`. Rate should be set to `rate = 1 - keep_prob`.\n",
      "__________________________________________________________________________________________________\n",
      "Layer (type)                    Output Shape         Param #     Connected to                     \n",
      "==================================================================================================\n",
      "input_14 (InputLayer)           (32, 256, 6)         0                                            \n",
      "__________________________________________________________________________________________________\n",
      "input_13 (InputLayer)           (32, 128, 243)       0                                            \n",
      "__________________________________________________________________________________________________\n",
      "gru_31 (GRU)                    (32, 256, 64)        13632       input_14[0][0]                   \n",
      "__________________________________________________________________________________________________\n",
      "gru_29 (GRU)                    (32, 128, 64)        59136       input_13[0][0]                   \n",
      "__________________________________________________________________________________________________\n",
      "gru_32 (GRU)                    (32, 256, 64)        24768       gru_31[0][0]                     \n",
      "__________________________________________________________________________________________________\n",
      "gru_30 (GRU)                    (32, 128, 64)        24768       gru_29[0][0]                     \n",
      "__________________________________________________________________________________________________\n",
      "max_pooling1d_7 (MaxPooling1D)  (32, 128, 64)        0           gru_32[0][0]                     \n",
      "__________________________________________________________________________________________________\n",
      "flatten_13 (Flatten)            (32, 8192)           0           gru_30[0][0]                     \n",
      "__________________________________________________________________________________________________\n",
      "flatten_14 (Flatten)            (32, 8192)           0           max_pooling1d_7[0][0]            \n",
      "__________________________________________________________________________________________________\n",
      "concatenate_7 (Concatenate)     (32, 16384)          0           flatten_13[0][0]                 \n",
      "                                                                 flatten_14[0][0]                 \n",
      "__________________________________________________________________________________________________\n",
      "dense_11 (Dense)                (32, 128)            2097280     concatenate_7[0][0]              \n",
      "__________________________________________________________________________________________________\n",
      "time_output (Dense)             (32, 2)              258         dense_11[0][0]                   \n",
      "==================================================================================================\n",
      "Total params: 2,219,842\n",
      "Trainable params: 2,219,842\n",
      "Non-trainable params: 0\n",
      "__________________________________________________________________________________________________\n",
      "None\n",
      "Train on 13056 samples, validate on 3264 samples\n",
      "Epoch 1/10\n",
      "13056/13056 [==============================] - 294s 23ms/step - loss: 0.5867 - acc: 0.7199 - true_positive: 0.7126 - false_positive: 0.2716 - val_loss: 0.5049 - val_acc: 0.7751 - val_true_positive: 0.8015 - val_false_positive: 0.2448\n",
      "Epoch 2/10\n",
      "13056/13056 [==============================] - 284s 22ms/step - loss: 0.5059 - acc: 0.7669 - true_positive: 0.7584 - false_positive: 0.2259 - val_loss: 0.4726 - val_acc: 0.7940 - val_true_positive: 0.7756 - val_false_positive: 0.1874\n",
      "Epoch 3/10\n",
      "13056/13056 [==============================] - 280s 21ms/step - loss: 0.4872 - acc: 0.7777 - true_positive: 0.7512 - false_positive: 0.1995 - val_loss: 0.4698 - val_acc: 0.7921 - val_true_positive: 0.7445 - val_false_positive: 0.1590\n",
      "Epoch 4/10\n",
      "13056/13056 [==============================] - 281s 22ms/step - loss: 0.4748 - acc: 0.7834 - true_positive: 0.7415 - false_positive: 0.1800 - val_loss: 0.4779 - val_acc: 0.7846 - val_true_positive: 0.8124 - val_false_positive: 0.2381\n",
      "Epoch 5/10\n",
      "13056/13056 [==============================] - 291s 22ms/step - loss: 0.4615 - acc: 0.7907 - true_positive: 0.7609 - false_positive: 0.1805 - val_loss: 0.4649 - val_acc: 0.7875 - val_true_positive: 0.6988 - val_false_positive: 0.1297\n",
      "Epoch 6/10\n",
      "13056/13056 [==============================] - 289s 22ms/step - loss: 0.4504 - acc: 0.7985 - true_positive: 0.7539 - false_positive: 0.1613 - val_loss: 0.4809 - val_acc: 0.7799 - val_true_positive: 0.6631 - val_false_positive: 0.1144\n",
      "Epoch 7/10\n",
      "13056/13056 [==============================] - 295s 23ms/step - loss: 0.4427 - acc: 0.8009 - true_positive: 0.7582 - false_positive: 0.1603 - val_loss: 0.4654 - val_acc: 0.7911 - val_true_positive: 0.7637 - val_false_positive: 0.1841\n",
      "Epoch 8/10\n",
      "13056/13056 [==============================] - 295s 23ms/step - loss: 0.4349 - acc: 0.8022 - true_positive: 0.7562 - false_positive: 0.1545 - val_loss: 0.4693 - val_acc: 0.7857 - val_true_positive: 0.6755 - val_false_positive: 0.1133\n",
      "Epoch 9/10\n",
      "13056/13056 [==============================] - 297s 23ms/step - loss: 0.4300 - acc: 0.8038 - true_positive: 0.7527 - false_positive: 0.1487 - val_loss: 0.4615 - val_acc: 0.7941 - val_true_positive: 0.7673 - val_false_positive: 0.1820\n",
      "Epoch 10/10\n",
      "13056/13056 [==============================] - 546s 42ms/step - loss: 0.4171 - acc: 0.8142 - true_positive: 0.7716 - false_positive: 0.1468 - val_loss: 0.4701 - val_acc: 0.7952 - val_true_positive: 0.7799 - val_false_positive: 0.1856\n"
     ]
    }
   ],
   "source": [
    "hist, model = rnn_models.train_functional_rnn_single(X_train, y_train, X_val, y_val, params)"
   ]
  },
  {
   "cell_type": "code",
   "execution_count": null,
   "metadata": {},
   "outputs": [],
   "source": []
  }
 ],
 "metadata": {
  "kernelspec": {
   "display_name": "Python 3",
   "language": "python",
   "name": "python3"
  },
  "language_info": {
   "codemirror_mode": {
    "name": "ipython",
    "version": 3
   },
   "file_extension": ".py",
   "mimetype": "text/x-python",
   "name": "python",
   "nbconvert_exporter": "python",
   "pygments_lexer": "ipython3",
   "version": "3.6.8"
  }
 },
 "nbformat": 4,
 "nbformat_minor": 2
}
