{
 "cells": [
  {
   "cell_type": "markdown",
   "metadata": {},
   "source": [
    "## Load in Necessary Packages, etc."
   ]
  },
  {
   "cell_type": "code",
   "execution_count": 74,
   "metadata": {},
   "outputs": [
    {
     "name": "stdout",
     "output_type": "stream",
     "text": [
      "The autoreload extension is already loaded. To reload it, use:\n",
      "  %reload_ext autoreload\n"
     ]
    }
   ],
   "source": [
    "%matplotlib inline\n",
    "\n",
    "import matplotlib.pyplot as plt\n",
    "import numpy as np\n",
    "import seaborn as sns\n",
    "import sys\n",
    "\n",
    "sys.path.append('D:\\substorm-detection\\RNN')\n",
    "sys.path.append('D:\\substorm-detection')\n",
    "sys.path.append('D:\\substorm-detection\\\\baseline')\n",
    "sys.path.append('D:\\substorm-detection\\\\data')\n",
    "\n",
    "import rnn_models\n",
    "import utils\n",
    "import utils_linear\n",
    "import plot_utils\n",
    "import linear_models\n",
    "\n",
    "%load_ext autoreload\n",
    "%autoreload 2\n",
    "\n",
    "sns.set()"
   ]
  },
  {
   "cell_type": "markdown",
   "metadata": {},
   "source": [
    "## Load in Data"
   ]
  },
  {
   "cell_type": "code",
   "execution_count": 57,
   "metadata": {},
   "outputs": [],
   "source": [
    "folder = 'D:\\\\substorm-detection\\\\data'\n",
    "data_fn = folder + '\\\\short_data.npz'\n",
    "data_fn = folder + '\\\\2classes_data128_withsw.npz'\n",
    "data = np.load(data_fn)\n",
    "X = data['X']\n",
    "y = data['y'][:, None]\n",
    "SW = data['SW']\n",
    "strength = data['strength']\n",
    "\n",
    "print(np.shape(X))\n",
    "print(np.shape(y))\n",
    "print(np.shape(SW))\n",
    "print(np.shape(strength))"
   ]
  },
  {
   "cell_type": "code",
   "execution_count": 69,
   "metadata": {},
   "outputs": [
    {
     "data": {
      "text/plain": [
       "True"
      ]
     },
     "execution_count": 69,
     "metadata": {},
     "output_type": "execute_result"
    }
   ],
   "source": [
    "'gru'.upper() == 'GRU'"
   ]
  },
  {
   "cell_type": "code",
   "execution_count": 70,
   "metadata": {},
   "outputs": [],
   "source": [
    "params = {\n",
    "    'batch_size': 32,\n",
    "    'rnn_hidden_units': 128,\n",
    "    'n_stacks': 2,\n",
    "    'fc_hidden_size': 128,\n",
    "    'n_classes': 2,\n",
    "    'epochs': 1,\n",
    "    'verbose': True,\n",
    "    'time_output_weight': 1,\n",
    "    'rnn_type': 'GRU',\n",
    "}"
   ]
  },
  {
   "cell_type": "code",
   "execution_count": 62,
   "metadata": {},
   "outputs": [
    {
     "name": "stderr",
     "output_type": "stream",
     "text": [
      "C:\\Users\\Alan\\Anaconda3\\lib\\site-packages\\sklearn\\preprocessing\\label.py:235: DataConversionWarning: A column-vector y was passed when a 1d array was expected. Please change the shape of y to (n_samples, ), for example using ravel().\n",
      "  y = column_or_1d(y, warn=True)\n",
      "C:\\Users\\Alan\\Anaconda3\\lib\\site-packages\\sklearn\\preprocessing\\_encoders.py:371: FutureWarning: The handling of integer data will change in version 0.22. Currently, the categories are determined based on the range [0, max(values)], while in the future they will be determined based on the unique values.\n",
      "If you want the future behaviour and silence this warning, you can specify \"categories='auto'\".\n",
      "In case you used a LabelEncoder before this OneHotEncoder to convert the categories to integers, then you can now use the OneHotEncoder directly.\n",
      "  warnings.warn(msg, FutureWarning)\n",
      "C:\\Users\\Alan\\Anaconda3\\lib\\site-packages\\sklearn\\preprocessing\\label.py:235: DataConversionWarning: A column-vector y was passed when a 1d array was expected. Please change the shape of y to (n_samples, ), for example using ravel().\n",
      "  y = column_or_1d(y, warn=True)\n",
      "C:\\Users\\Alan\\Anaconda3\\lib\\site-packages\\sklearn\\preprocessing\\_encoders.py:371: FutureWarning: The handling of integer data will change in version 0.22. Currently, the categories are determined based on the range [0, max(values)], while in the future they will be determined based on the unique values.\n",
      "If you want the future behaviour and silence this warning, you can specify \"categories='auto'\".\n",
      "In case you used a LabelEncoder before this OneHotEncoder to convert the categories to integers, then you can now use the OneHotEncoder directly.\n",
      "  warnings.warn(msg, FutureWarning)\n",
      "C:\\Users\\Alan\\Anaconda3\\lib\\site-packages\\sklearn\\preprocessing\\label.py:235: DataConversionWarning: A column-vector y was passed when a 1d array was expected. Please change the shape of y to (n_samples, ), for example using ravel().\n",
      "  y = column_or_1d(y, warn=True)\n",
      "C:\\Users\\Alan\\Anaconda3\\lib\\site-packages\\sklearn\\preprocessing\\_encoders.py:371: FutureWarning: The handling of integer data will change in version 0.22. Currently, the categories are determined based on the range [0, max(values)], while in the future they will be determined based on the unique values.\n",
      "If you want the future behaviour and silence this warning, you can specify \"categories='auto'\".\n",
      "In case you used a LabelEncoder before this OneHotEncoder to convert the categories to integers, then you can now use the OneHotEncoder directly.\n",
      "  warnings.warn(msg, FutureWarning)\n"
     ]
    }
   ],
   "source": [
    "train_test_split = .11\n",
    "train_val_split = .15\n",
    "train, test = utils.split_data([X, SW, y, strength], train_test_split, random=False)\n",
    "train, val = utils.split_data(train, train_val_split, random=True, batch_size=32)\n",
    "X_train, sw_train, y_train, strength_train = train\n",
    "X_val, sw_val, y_val, strength_val = val\n",
    "X_test, sw_test, y_test, strength_test = test\n",
    "\n",
    "X_train, X_val, X_test = utils.rnn_format_x([X_train, X_val, X_test])\n",
    "y_train, y_val, y_test = utils.rnn_format_y([y_train, y_val, y_test])\n",
    "\n",
    "X_train, X_val, X_test = [X_train, sw_train], [X_val, sw_val], [X_test, sw_test]\n",
    "y_train, y_val, y_test = [y_train, strength_train], [y_val, strength_val], [y_test, strength_test]"
   ]
  },
  {
   "cell_type": "code",
   "execution_count": 78,
   "metadata": {},
   "outputs": [
    {
     "name": "stdout",
     "output_type": "stream",
     "text": [
      "Train on 15456 samples, validate on 2720 samples\n",
      "Epoch 1/1\n",
      "15456/15456 [==============================] - 241s 16ms/step - loss: 0.5329 - acc: 0.7538 - true_positive: 0.7513 - false_positive: 0.2430 - val_loss: 0.5189 - val_acc: 0.7688 - val_true_positive: 0.8057 - val_false_positive: 0.2579\n",
      "Train on 15456 samples, validate on 2720 samples\n",
      "Epoch 1/1\n",
      "15456/15456 [==============================] - 245s 16ms/step - loss: 340711.1469 - mean_squared_error: 340711.1469 - mean_absolute_error: 309.0638 - val_loss: 339971.0996 - val_mean_squared_error: 339971.0996 - val_mean_absolute_error: 277.4307\n",
      "__________________________________________________________________________________________________\n",
      "Layer (type)                    Output Shape         Param #     Connected to                     \n",
      "==================================================================================================\n",
      "input_33 (InputLayer)           (32, 128, 243)       0                                            \n",
      "__________________________________________________________________________________________________\n",
      "gru_65 (GRU)                    (32, 128, 128)       142848      input_33[0][0]                   \n",
      "__________________________________________________________________________________________________\n",
      "gru_67 (GRU)                    (32, 128, 128)       142848      input_33[0][0]                   \n",
      "__________________________________________________________________________________________________\n",
      "gru_66 (GRU)                    (32, 128, 128)       98688       gru_65[0][0]                     \n",
      "__________________________________________________________________________________________________\n",
      "gru_68 (GRU)                    (32, 128, 128)       98688       gru_67[0][0]                     \n",
      "__________________________________________________________________________________________________\n",
      "concatenate_17 (Concatenate)    (32, 128, 256)       0           gru_66[0][0]                     \n",
      "                                                                 gru_68[0][0]                     \n",
      "__________________________________________________________________________________________________\n",
      "dense_17 (Dense)                (32, 128, 128)       32896       concatenate_17[0][0]             \n",
      "__________________________________________________________________________________________________\n",
      "flatten_12 (Flatten)            (32, 16384)          0           dense_17[0][0]                   \n",
      "__________________________________________________________________________________________________\n",
      "time_output (Dense)             (32, 2)              32770       flatten_12[0][0]                 \n",
      "==================================================================================================\n",
      "Total params: 548,738\n",
      "Trainable params: 548,738\n",
      "Non-trainable params: 0\n",
      "__________________________________________________________________________________________________\n",
      "None\n",
      "__________________________________________________________________________________________________\n",
      "Layer (type)                    Output Shape         Param #     Connected to                     \n",
      "==================================================================================================\n",
      "input_33 (InputLayer)           (32, 128, 243)       0                                            \n",
      "__________________________________________________________________________________________________\n",
      "gru_65 (GRU)                    (32, 128, 128)       142848      input_33[0][0]                   \n",
      "__________________________________________________________________________________________________\n",
      "gru_67 (GRU)                    (32, 128, 128)       142848      input_33[0][0]                   \n",
      "__________________________________________________________________________________________________\n",
      "gru_66 (GRU)                    (32, 128, 128)       98688       gru_65[0][0]                     \n",
      "__________________________________________________________________________________________________\n",
      "gru_68 (GRU)                    (32, 128, 128)       98688       gru_67[0][0]                     \n",
      "__________________________________________________________________________________________________\n",
      "concatenate_17 (Concatenate)    (32, 128, 256)       0           gru_66[0][0]                     \n",
      "                                                                 gru_68[0][0]                     \n",
      "__________________________________________________________________________________________________\n",
      "dense_17 (Dense)                (32, 128, 128)       32896       concatenate_17[0][0]             \n",
      "__________________________________________________________________________________________________\n",
      "flatten_12 (Flatten)            (32, 16384)          0           dense_17[0][0]                   \n",
      "__________________________________________________________________________________________________\n",
      "strength_output (Dense)         (32, 1)              16385       flatten_12[0][0]                 \n",
      "==================================================================================================\n",
      "Total params: 532,353\n",
      "Trainable params: 532,353\n",
      "Non-trainable params: 0\n",
      "__________________________________________________________________________________________________\n",
      "None\n"
     ]
    }
   ],
   "source": [
    "hist, model = rnn_models.train_functional_rnn_separate(X_train, y_train, X_val, y_val, params)"
   ]
  },
  {
   "cell_type": "code",
   "execution_count": null,
   "metadata": {},
   "outputs": [],
   "source": []
  }
 ],
 "metadata": {
  "kernelspec": {
   "display_name": "Python 3",
   "language": "python",
   "name": "python3"
  },
  "language_info": {
   "codemirror_mode": {
    "name": "ipython",
    "version": 3
   },
   "file_extension": ".py",
   "mimetype": "text/x-python",
   "name": "python",
   "nbconvert_exporter": "python",
   "pygments_lexer": "ipython3",
   "version": "3.6.8"
  }
 },
 "nbformat": 4,
 "nbformat_minor": 2
}
