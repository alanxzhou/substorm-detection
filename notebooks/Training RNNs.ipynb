{
 "cells": [
  {
   "cell_type": "code",
   "execution_count": 3,
   "metadata": {},
   "outputs": [
    {
     "name": "stderr",
     "output_type": "stream",
     "text": [
      "Using TensorFlow backend.\n"
     ]
    }
   ],
   "source": [
    "%matplotlib inline\n",
    "\n",
    "import matplotlib.pyplot as plt\n",
    "import numpy as np\n",
    "import seaborn as sns\n",
    "import sys\n",
    "\n",
    "sys.path.append('D:\\substorm-detection\\RNN')\n",
    "sys.path.append('D:\\substorm-detection')\n",
    "sys.path.append('D:\\substorm-detection\\\\baseline')\n",
    "sys.path.append('D:\\substorm-detection\\\\data')\n",
    "\n",
    "import rnn_models\n",
    "import utils\n",
    "import utils_linear\n",
    "import plot_utils\n",
    "import linear_models\n",
    "\n",
    "%load_ext autoreload\n",
    "%autoreload 2\n",
    "\n",
    "sns.set()"
   ]
  },
  {
   "cell_type": "markdown",
   "metadata": {},
   "source": [
    "## Load in Data"
   ]
  },
  {
   "cell_type": "code",
   "execution_count": 4,
   "metadata": {},
   "outputs": [],
   "source": [
    "data_fn = 'D:\\\\substorm-detection\\\\data\\\\short_data.npz'\n",
    "data = np.load(data_fn)\n",
    "X = data['X']\n",
    "y = data['y'][:, None]\n",
    "SW = data['SW']\n",
    "strength = data['strength']"
   ]
  },
  {
   "cell_type": "code",
   "execution_count": 6,
   "metadata": {},
   "outputs": [
    {
     "name": "stdout",
     "output_type": "stream",
     "text": [
      "(1422, 52, 128, 3)\n",
      "(1422, 1)\n",
      "(1422, 256, 6)\n",
      "(1422,)\n"
     ]
    }
   ],
   "source": [
    "print(np.shape(X))\n",
    "print(np.shape(y))\n",
    "print(np.shape(SW))\n",
    "print(np.shape(strength))"
   ]
  },
  {
   "cell_type": "code",
   "execution_count": 48,
   "metadata": {},
   "outputs": [],
   "source": [
    "params = {\n",
    "    'batch_size': 32,\n",
    "    'rnn_hidden_units': 128,\n",
    "    'n_stacks': 2,\n",
    "    'fc_hidden_size': 128,\n",
    "    'n_classes': 3,\n",
    "    'epochs': 3,\n",
    "    'verbose': True,\n",
    "    'time_output_weight': 1\n",
    "}"
   ]
  },
  {
   "cell_type": "code",
   "execution_count": 51,
   "metadata": {},
   "outputs": [],
   "source": [
    "train_test_split = .11\n",
    "train_val_split = .15\n",
    "train, test = utils.split_data([X, SW, y, strength], train_test_split, random=False)\n",
    "train, val = utils.split_data(train, train_val_split, random=True, batch_size=32)\n",
    "X_train, sw_train, y_train, strength_train = train\n",
    "X_val, sw_val, y_val, strength_val = val\n",
    "X_test, sw_test, y_test, strength_test = test\n",
    "\n",
    "X_train, X_val, X_test = utils.rnn_format_x([X_train, X_val, X_test])\n",
    "\n",
    "X_train, X_val, X_test = [X_train, sw_train], [X_val, sw_val], [X_test, sw_test]\n",
    "y_train, y_val, y_test = [y_train, strength_train], [y_val, strength_val], [y_test, strength_test]"
   ]
  },
  {
   "cell_type": "code",
   "execution_count": 46,
   "metadata": {},
   "outputs": [
    {
     "name": "stdout",
     "output_type": "stream",
     "text": [
      "(1075, 128, 156)\n",
      "__________________________________________________________________________________________________\n",
      "Layer (type)                    Output Shape         Param #     Connected to                     \n",
      "==================================================================================================\n",
      "input_19 (InputLayer)           (5, 128, 156)        0                                            \n",
      "__________________________________________________________________________________________________\n",
      "gru_37 (GRU)                    (5, 128, 128)        109440      input_19[0][0]                   \n",
      "__________________________________________________________________________________________________\n",
      "gru_39 (GRU)                    (5, 128, 128)        109440      input_19[0][0]                   \n",
      "__________________________________________________________________________________________________\n",
      "gru_38 (GRU)                    (5, 128, 128)        98688       gru_37[0][0]                     \n",
      "__________________________________________________________________________________________________\n",
      "gru_40 (GRU)                    (5, 128, 128)        98688       gru_39[0][0]                     \n",
      "__________________________________________________________________________________________________\n",
      "concatenate_10 (Concatenate)    (5, 128, 256)        0           gru_38[0][0]                     \n",
      "                                                                 gru_40[0][0]                     \n",
      "__________________________________________________________________________________________________\n",
      "dense_10 (Dense)                (5, 128, 128)        32896       concatenate_10[0][0]             \n",
      "__________________________________________________________________________________________________\n",
      "flatten_5 (Flatten)             (5, 16384)           0           dense_10[0][0]                   \n",
      "__________________________________________________________________________________________________\n",
      "time_output (Dense)             (5, 3)               49155       flatten_5[0][0]                  \n",
      "__________________________________________________________________________________________________\n",
      "strength_output (Dense)         (5, 1)               16385       flatten_5[0][0]                  \n",
      "==================================================================================================\n",
      "Total params: 514,692\n",
      "Trainable params: 514,692\n",
      "Non-trainable params: 0\n",
      "__________________________________________________________________________________________________\n",
      "None\n",
      "Train on 1075 samples, validate on 190 samples\n",
      "Epoch 1/3\n",
      "1075/1075 [==============================] - 71s 66ms/step - loss: 3671735.3001 - time_output_loss: 9.2609 - strength_output_loss: 3671726.0618 - time_output_acc: 0.4056 - strength_output_mean_squared_error: 3671726.0618 - strength_output_mean_absolute_error: 1031.1223 - val_loss: 3315337.4661 - val_time_output_loss: 10.2647 - val_strength_output_loss: 3315327.1902 - val_time_output_acc: 0.3632 - val_strength_output_mean_squared_error: 3315327.1902 - val_strength_output_mean_absolute_error: 1011.5948\n",
      "Epoch 2/3\n",
      "1075/1075 [==============================] - 66s 61ms/step - loss: 2425856.4863 - time_output_loss: 9.5295 - strength_output_loss: 2425846.9469 - time_output_acc: 0.4056 - strength_output_mean_squared_error: 2425846.9469 - strength_output_mean_absolute_error: 833.8391 - val_loss: 1905431.0577 - val_time_output_loss: 10.2647 - val_strength_output_loss: 1905420.7997 - val_time_output_acc: 0.3632 - val_strength_output_mean_squared_error: 1905420.7997 - val_strength_output_mean_absolute_error: 615.3725\n",
      "Epoch 3/3\n",
      "1075/1075 [==============================] - 65s 61ms/step - loss: 1496555.7264 - time_output_loss: 9.5209 - strength_output_loss: 1496546.2126 - time_output_acc: 0.4093 - strength_output_mean_squared_error: 1496546.2126 - strength_output_mean_absolute_error: 658.0933 - val_loss: 1394031.1647 - val_time_output_loss: 10.2647 - val_strength_output_loss: 1394020.8941 - val_time_output_acc: 0.3632 - val_strength_output_mean_squared_error: 1394020.8941 - val_strength_output_mean_absolute_error: 681.9775\n"
     ]
    }
   ],
   "source": [
    "hist, model = rnn_models.train_functional_gru(X_train, y_train, X_val, y_val, params)"
   ]
  },
  {
   "cell_type": "code",
   "execution_count": null,
   "metadata": {},
   "outputs": [],
   "source": []
  }
 ],
 "metadata": {
  "kernelspec": {
   "display_name": "Python 3",
   "language": "python",
   "name": "python3"
  },
  "language_info": {
   "codemirror_mode": {
    "name": "ipython",
    "version": 3
   },
   "file_extension": ".py",
   "mimetype": "text/x-python",
   "name": "python",
   "nbconvert_exporter": "python",
   "pygments_lexer": "ipython3",
   "version": "3.6.8"
  }
 },
 "nbformat": 4,
 "nbformat_minor": 2
}
